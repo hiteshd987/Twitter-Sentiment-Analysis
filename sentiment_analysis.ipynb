{
 "cells": [
  {
   "cell_type": "code",
   "execution_count": 1,
   "id": "5c4ec37e",
   "metadata": {},
   "outputs": [
    {
     "name": "stdout",
     "output_type": "stream",
     "text": [
      "target\n",
      "1    30005\n",
      "0    29995\n",
      "Name: count, dtype: int64\n"
     ]
    }
   ],
   "source": [
    "import nltk\n",
    "from sklearn.model_selection import train_test_split\n",
    "from sklearn.feature_extraction.text import TfidfVectorizer\n",
    "from sklearn.metrics import accuracy_score, precision_score, classification_report\n",
    "from utils.dataset_loader import load_dataset\n",
    "\n",
    "twitter_data = load_dataset(\"data/twitterDataset.csv\")\n"
   ]
  },
  {
   "cell_type": "code",
   "execution_count": 14,
   "id": "846087ba",
   "metadata": {},
   "outputs": [
    {
     "data": {
      "text/plain": [
       "<Axes: xlabel='target', ylabel='count'>"
      ]
     },
     "execution_count": 14,
     "metadata": {},
     "output_type": "execute_result"
    },
    {
     "data": {
      "image/png": "[encoded data removed]",
      "text/plain": [
       "<Figure size 640x480 with 1 Axes>"
      ]
     },
     "metadata": {},
     "output_type": "display_data"
    }
   ],
   "source": [
    "# ********* positive, negative split ***********\n",
    "\n",
    "import seaborn as sns \n",
    "\n",
    "sns.countplot(x=\"target\",data=twitter_data, palette=\"Set2\")\n"
   ]
  },
  {
   "cell_type": "code",
   "execution_count": 15,
   "id": "23a38dfe",
   "metadata": {},
   "outputs": [],
   "source": [
    "# ************* Preprocessing ****************\n",
    "\n",
    "from preprocessing.data_preprocessing import tweets_processed\n",
    "\n",
    "twitter_data['processed_text'] = twitter_data['text'].apply(tweets_processed)\n",
    "\n",
    "# Remove rows where preprocessed text = None\n",
    "twitter_data = twitter_data.dropna(subset=['processed_text'])\n",
    "\n",
    "# Reset the index\n",
    "twitter_data = twitter_data.reset_index(drop=True)\n"
   ]
  },
  {
   "cell_type": "code",
   "execution_count": 16,
   "id": "9b561d61",
   "metadata": {},
   "outputs": [
    {
     "name": "stdout",
     "output_type": "stream",
     "text": [
      "(59996,) (47996,) (12000,)\n"
     ]
    }
   ],
   "source": [
    "# *************** Split Dataset **************\n",
    "\n",
    "X = twitter_data['processed_text'].values\n",
    "Y = twitter_data['target'].values\n",
    "\n",
    "X_train, X_test, y_train, y_test = train_test_split(X, Y, test_size=0.2, stratify=Y, random_state=42)\n",
    "print(X.shape, X_train.shape, X_test.shape)\n"
   ]
  },
  {
   "cell_type": "code",
   "execution_count": 17,
   "id": "b15fdd5a",
   "metadata": {},
   "outputs": [],
   "source": [
    "tfidf_vec = TfidfVectorizer()"
   ]
  },
  {
   "cell_type": "code",
   "execution_count": 18,
   "id": "c3c857ba",
   "metadata": {},
   "outputs": [],
   "source": [
    "# *********** VADER ***********\n",
    "import pandas as pd\n",
    "\n",
    "from models.VADER import check_vader_polarity\n",
    "\n",
    "vader_polarity = pd.Series(X).apply(check_vader_polarity)\n"
   ]
  },
  {
   "cell_type": "code",
   "execution_count": 19,
   "id": "6fb687cf",
   "metadata": {},
   "outputs": [
    {
     "name": "stdout",
     "output_type": "stream",
     "text": [
      "              precision    recall  f1-score   support\n",
      "\n",
      "           0       0.63      0.66      0.65     29994\n",
      "           1       0.65      0.62      0.63     30002\n",
      "\n",
      "    accuracy                           0.64     59996\n",
      "   macro avg       0.64      0.64      0.64     59996\n",
      "weighted avg       0.64      0.64      0.64     59996\n",
      "\n"
     ]
    }
   ],
   "source": [
    "report = classification_report(Y, vader_polarity)\n",
    "print(report)"
   ]
  },
  {
   "cell_type": "code",
   "execution_count": 20,
   "id": "ac622bab",
   "metadata": {},
   "outputs": [
    {
     "name": "stdout",
     "output_type": "stream",
     "text": [
      "Accuracy vader 0.6397426495099673\n",
      "Precision vader 0.6460611548373616\n"
     ]
    }
   ],
   "source": [
    "\n",
    "accuracy_vader = accuracy_score(Y, vader_polarity)\n",
    "precision_vader = precision_score(Y, vader_polarity)\n",
    "\n",
    "print(\"Accuracy vader\",accuracy_vader)\n",
    "print(\"Precision vader\",precision_vader)\n"
   ]
  },
  {
   "cell_type": "code",
   "execution_count": 21,
   "id": "d0531c90",
   "metadata": {},
   "outputs": [],
   "source": [
    "# ************ Multinomial Naive Bayes ***********\n",
    "\n",
    "from models.naive_bayes_model import calc_naive_bayes\n",
    "\n",
    "pred_nb = calc_naive_bayes(X_train, X_test, y_train, tfidf_vec)\n"
   ]
  },
  {
   "cell_type": "code",
   "execution_count": 22,
   "id": "89f2ac1c",
   "metadata": {},
   "outputs": [
    {
     "name": "stdout",
     "output_type": "stream",
     "text": [
      "              precision    recall  f1-score   support\n",
      "\n",
      "           0       0.73      0.77      0.75      5999\n",
      "           1       0.76      0.71      0.73      6001\n",
      "\n",
      "    accuracy                           0.74     12000\n",
      "   macro avg       0.74      0.74      0.74     12000\n",
      "weighted avg       0.74      0.74      0.74     12000\n",
      "\n"
     ]
    }
   ],
   "source": [
    "report = classification_report(y_test, pred_nb)\n",
    "print(report)"
   ]
  },
  {
   "cell_type": "code",
   "execution_count": 23,
   "id": "3e549212",
   "metadata": {},
   "outputs": [
    {
     "name": "stdout",
     "output_type": "stream",
     "text": [
      "Naive Bayes Accuracy 0.7414166666666666\n",
      "Naive Bayes Precision 0.7571884984025559\n"
     ]
    }
   ],
   "source": [
    "accuracy_nb = accuracy_score(y_test, pred_nb)\n",
    "print(\"Naive Bayes Accuracy\",accuracy_nb)\n",
    "\n",
    "precision_nb = precision_score(y_test, pred_nb)\n",
    "print(\"Naive Bayes Precision\", precision_nb)\n"
   ]
  },
  {
   "cell_type": "code",
   "execution_count": 24,
   "id": "1b7c9949",
   "metadata": {},
   "outputs": [
    {
     "name": "stdout",
     "output_type": "stream",
     "text": [
      "Improved Naive Bayes Accuracy compared to VADER 0.10167401715669933\n",
      "Improved Naive Bayes Precision compared to VADER 0.11112734356519427\n"
     ]
    }
   ],
   "source": [
    "improved_accuracy_nb = accuracy_nb - accuracy_vader\n",
    "improved_precision_nb = precision_nb - precision_vader\n",
    "\n",
    "print(\"Improved Naive Bayes Accuracy compared to VADER\", improved_accuracy_nb)\n",
    "print(\"Improved Naive Bayes Precision compared to VADER\", improved_precision_nb)\n"
   ]
  },
  {
   "cell_type": "code",
   "execution_count": 25,
   "id": "f61c5280",
   "metadata": {},
   "outputs": [],
   "source": [
    "# ********** Support Vector Machine ***********\n",
    "\n",
    "from models.svm_model import calc_svm\n",
    "\n",
    "pred_svm = calc_svm(X_train, X_test, y_train)"
   ]
  },
  {
   "cell_type": "code",
   "execution_count": 26,
   "id": "4a8ae209",
   "metadata": {},
   "outputs": [
    {
     "name": "stdout",
     "output_type": "stream",
     "text": [
      "              precision    recall  f1-score   support\n",
      "\n",
      "           0       0.77      0.73      0.75      5999\n",
      "           1       0.74      0.78      0.76      6001\n",
      "\n",
      "    accuracy                           0.75     12000\n",
      "   macro avg       0.75      0.75      0.75     12000\n",
      "weighted avg       0.75      0.75      0.75     12000\n",
      "\n"
     ]
    }
   ],
   "source": [
    "report = classification_report(y_test, pred_svm)\n",
    "print(report)"
   ]
  },
  {
   "cell_type": "code",
   "execution_count": 27,
   "id": "21243d45",
   "metadata": {},
   "outputs": [
    {
     "name": "stdout",
     "output_type": "stream",
     "text": [
      "Accuracy SVM 0.7534166666666666\n",
      "Precision SVM 0.741581956797967\n"
     ]
    }
   ],
   "source": [
    "accuracy_svm = accuracy_score(y_test, pred_svm)\n",
    "precision_svm = precision_score(y_test, pred_svm)\n",
    "\n",
    "print(\"Accuracy SVM\",accuracy_svm)\n",
    "print(\"Precision SVM\", precision_svm)\n"
   ]
  },
  {
   "cell_type": "code",
   "execution_count": 28,
   "id": "010d3886",
   "metadata": {},
   "outputs": [
    {
     "name": "stdout",
     "output_type": "stream",
     "text": [
      "Improved SVM Accuracy compared to VADER 0.11367401715669934\n",
      "Improved SVM Precision compared to VADER 0.09552080196060542\n"
     ]
    }
   ],
   "source": [
    "improved_accuracy_svm = accuracy_svm - accuracy_vader\n",
    "improved_precision_svm = precision_svm - precision_vader\n",
    "\n",
    "print(\"Improved SVM Accuracy compared to VADER\", improved_accuracy_svm)\n",
    "print(\"Improved SVM Precision compared to VADER\", improved_precision_svm)\n",
    "\n"
   ]
  },
  {
   "cell_type": "code",
   "execution_count": 29,
   "id": "bfc1a740",
   "metadata": {},
   "outputs": [],
   "source": [
    "# ************** Logistic Regression ************\n",
    "from models.logistic_regression_model import calc_log_reg\n",
    "\n",
    "logisticreg_pred = calc_log_reg(X_train, X_test, y_train, tfidf_vec)\n"
   ]
  },
  {
   "cell_type": "code",
   "execution_count": 30,
   "id": "8a07d097",
   "metadata": {},
   "outputs": [
    {
     "name": "stdout",
     "output_type": "stream",
     "text": [
      "              precision    recall  f1-score   support\n",
      "\n",
      "           0       0.76      0.74      0.75      5999\n",
      "           1       0.75      0.77      0.76      6001\n",
      "\n",
      "    accuracy                           0.76     12000\n",
      "   macro avg       0.76      0.76      0.76     12000\n",
      "weighted avg       0.76      0.76      0.76     12000\n",
      "\n"
     ]
    }
   ],
   "source": [
    "report = classification_report(y_test, logisticreg_pred)\n",
    "print(report)"
   ]
  },
  {
   "cell_type": "code",
   "execution_count": 31,
   "id": "6fbf4c36",
   "metadata": {},
   "outputs": [
    {
     "name": "stdout",
     "output_type": "stream",
     "text": [
      "Accuracy Logistic Regression 0.7573333333333333\n",
      "Precision Logistic Regression 0.7501214574898786\n"
     ]
    }
   ],
   "source": [
    "accuracy_logistic_reg = accuracy_score(y_test, logisticreg_pred)\n",
    "precision_logistic_reg = precision_score(y_test, logisticreg_pred)\n",
    "\n",
    "print(\"Accuracy Logistic Regression\",accuracy_logistic_reg)\n",
    "print(\"Precision Logistic Regression\", precision_logistic_reg)\n"
   ]
  },
  {
   "cell_type": "code",
   "execution_count": 32,
   "id": "0d4d012f",
   "metadata": {},
   "outputs": [
    {
     "name": "stdout",
     "output_type": "stream",
     "text": [
      "Improved Logistic Regression Accuracy compared to VADER 0.11759068382336602\n",
      "Improved Logistic Regression Precision compared to VADER 0.10406030265251698\n"
     ]
    }
   ],
   "source": [
    "improved_accuracy_logreg = accuracy_logistic_reg - accuracy_vader\n",
    "improved_precision_logreg = precision_logistic_reg - precision_vader\n",
    "\n",
    "print(\"Improved Logistic Regression Accuracy compared to VADER\", improved_accuracy_logreg)\n",
    "print(\"Improved Logistic Regression Precision compared to VADER\", improved_precision_logreg)\n",
    "\n"
   ]
  },
  {
   "cell_type": "code",
   "execution_count": 33,
   "id": "113abc23",
   "metadata": {},
   "outputs": [
    {
     "name": "stdout",
     "output_type": "stream",
     "text": [
      "Epoch 1/50\n",
      "675/675 - 52s - 77ms/step - accuracy: 0.6900 - loss: 0.6960 - val_accuracy: 0.7240 - val_loss: 0.5801\n",
      "Epoch 2/50\n",
      "675/675 - 50s - 74ms/step - accuracy: 0.7163 - loss: 0.5798 - val_accuracy: 0.7254 - val_loss: 0.5731\n",
      "Epoch 3/50\n",
      "675/675 - 50s - 74ms/step - accuracy: 0.7251 - loss: 0.5659 - val_accuracy: 0.7237 - val_loss: 0.5598\n",
      "Epoch 4/50\n",
      "675/675 - 49s - 73ms/step - accuracy: 0.7312 - loss: 0.5577 - val_accuracy: 0.7381 - val_loss: 0.5509\n",
      "Epoch 5/50\n",
      "675/675 - 51s - 76ms/step - accuracy: 0.7362 - loss: 0.5513 - val_accuracy: 0.7398 - val_loss: 0.5475\n",
      "Epoch 6/50\n",
      "675/675 - 47s - 70ms/step - accuracy: 0.7391 - loss: 0.5468 - val_accuracy: 0.7406 - val_loss: 0.5426\n",
      "Epoch 7/50\n",
      "675/675 - 48s - 71ms/step - accuracy: 0.7414 - loss: 0.5422 - val_accuracy: 0.7206 - val_loss: 0.5645\n",
      "Epoch 8/50\n",
      "675/675 - 48s - 71ms/step - accuracy: 0.7427 - loss: 0.5410 - val_accuracy: 0.7352 - val_loss: 0.5428\n",
      "Epoch 9/50\n",
      "675/675 - 47s - 70ms/step - accuracy: 0.7454 - loss: 0.5369 - val_accuracy: 0.7435 - val_loss: 0.5353\n",
      "Epoch 10/50\n",
      "675/675 - 43s - 64ms/step - accuracy: 0.7455 - loss: 0.5355 - val_accuracy: 0.7402 - val_loss: 0.5446\n",
      "Epoch 11/50\n",
      "675/675 - 49s - 72ms/step - accuracy: 0.7478 - loss: 0.5342 - val_accuracy: 0.7337 - val_loss: 0.5597\n",
      "Epoch 12/50\n",
      "675/675 - 51s - 76ms/step - accuracy: 0.7500 - loss: 0.5324 - val_accuracy: 0.7498 - val_loss: 0.5315\n",
      "Epoch 13/50\n",
      "675/675 - 50s - 74ms/step - accuracy: 0.7518 - loss: 0.5300 - val_accuracy: 0.7477 - val_loss: 0.5451\n",
      "Epoch 14/50\n",
      "675/675 - 47s - 70ms/step - accuracy: 0.7502 - loss: 0.5295 - val_accuracy: 0.7377 - val_loss: 0.5456\n",
      "Epoch 15/50\n",
      "675/675 - 52s - 78ms/step - accuracy: 0.7509 - loss: 0.5294 - val_accuracy: 0.7446 - val_loss: 0.5359\n",
      "\n",
      "LSTM model --->  [0.5379797220230103, 0.753166675567627]\n",
      "\u001b[1m375/375\u001b[0m \u001b[32m━━━━━━━━━━━━━━━━━━━━\u001b[0m\u001b[37m\u001b[0m \u001b[1m7s\u001b[0m 19ms/step\n"
     ]
    }
   ],
   "source": [
    "# ********* Long Short-Term Memory ***********\n",
    "\n",
    "from models.lstm_model import calc_lstm\n",
    "\n",
    "all_texts = twitter_data['processed_text']\n",
    "all_labels = twitter_data['target']\n",
    "y_pred_lstm, y_test_lstm = calc_lstm(all_texts, all_labels)\n"
   ]
  },
  {
   "cell_type": "code",
   "execution_count": 34,
   "id": "2db03d4c",
   "metadata": {},
   "outputs": [
    {
     "name": "stdout",
     "output_type": "stream",
     "text": [
      "              precision    recall  f1-score   support\n",
      "\n",
      "           0       0.76      0.74      0.75      6050\n",
      "           1       0.75      0.76      0.75      5950\n",
      "\n",
      "    accuracy                           0.75     12000\n",
      "   macro avg       0.75      0.75      0.75     12000\n",
      "weighted avg       0.75      0.75      0.75     12000\n",
      "\n"
     ]
    }
   ],
   "source": [
    "report = classification_report(y_test_lstm, y_pred_lstm)\n",
    "print(report)"
   ]
  },
  {
   "cell_type": "code",
   "execution_count": 35,
   "id": "f6be7fdc",
   "metadata": {},
   "outputs": [
    {
     "name": "stdout",
     "output_type": "stream",
     "text": [
      "Accuracy: 0.7531666666666667\n",
      "Precision: 0.7453201970443349\n"
     ]
    }
   ],
   "source": [
    "accuracy_lstm = accuracy_score(y_test_lstm, y_pred_lstm)\n",
    "precision_lstm = precision_score(y_test_lstm, y_pred_lstm)\n",
    "\n",
    "print(\"Accuracy:\", accuracy_lstm)\n",
    "print(\"Precision:\", precision_lstm)"
   ]
  },
  {
   "cell_type": "code",
   "execution_count": 36,
   "id": "d389e8b2",
   "metadata": {},
   "outputs": [
    {
     "name": "stdout",
     "output_type": "stream",
     "text": [
      "Improved LSTM Accuracy compared to VADER 0.11342401715669936\n",
      "Improved LSTM Precision compared to VADER 0.09925904220697335\n"
     ]
    }
   ],
   "source": [
    "improved_accuracy_lstm = accuracy_lstm - accuracy_vader\n",
    "improved_precision_lstm = precision_lstm - precision_vader\n",
    "\n",
    "print(\"Improved LSTM Accuracy compared to VADER\", improved_accuracy_lstm)\n",
    "print(\"Improved LSTM Precision compared to VADER\", improved_precision_lstm)\n"
   ]
  },
  {
   "cell_type": "code",
   "execution_count": 57,
   "id": "d7c99ab3",
   "metadata": {},
   "outputs": [
    {
     "data": {
      "image/png": "[encoded data removed]",
      "text/plain": [
       "<Figure size 800x600 with 1 Axes>"
      ]
     },
     "metadata": {},
     "output_type": "display_data"
    }
   ],
   "source": [
    "# ************ Compare Accuracies and Precisions ***********\n",
    "\n",
    "import matplotlib.pyplot as plt\n",
    "\n",
    "# Model names\n",
    "models = ['VADER', 'Multinomial Naive Bayes', 'SVM', 'Logistic Regression', 'LSTM' ]\n",
    "\n",
    "accuracies = [accuracy_vader, accuracy_nb, accuracy_svm, accuracy_logistic_reg, accuracy_lstm]\n",
    "\n",
    "# Plotting the graph\n",
    "plt.figure(figsize=(8, 6))\n",
    "\n",
    "# Plot accuracy scores\n",
    "plt.plot(models, accuracies, marker='o', color='blue', linestyle='-', label='Accuracy')\n",
    "\n",
    "# Add a horizontal line\n",
    "plt.axhline(y=accuracy_vader, color='red', linestyle='--', label='VADER Baseline')\n",
    "\n",
    "plt.title('Model Accuracies')\n",
    "plt.xlabel('Models')\n",
    "plt.ylabel('Accuracy')\n",
    "plt.ylim(0, 1) \n",
    "plt.legend()\n",
    "plt.xticks(rotation=45)\n",
    "plt.grid(axis='y', linestyle='--', alpha=0.7)\n",
    "\n",
    "for i in range(len(models)):\n",
    "    plt.text(models[i], accuracies[i], f'{accuracies[i]:.2f}', ha='right', va='bottom')\n",
    "\n",
    "plt.tight_layout()\n",
    "plt.show()\n",
    "\n",
    "\n"
   ]
  },
  {
   "cell_type": "code",
   "execution_count": 58,
   "id": "2e6214f4",
   "metadata": {},
   "outputs": [
    {
     "data": {
      "image/png": "[encoded data removed]",
      "text/plain": [
       "<Figure size 800x600 with 1 Axes>"
      ]
     },
     "metadata": {},
     "output_type": "display_data"
    }
   ],
   "source": [
    "\n",
    "\n",
    "# Model names\n",
    "models = ['VADER', 'Multinomial Naive Bayes', 'SVM', 'Logistic Regression', 'LSTM' ]\n",
    "\n",
    "precisions = [precision_vader, precision_nb, precision_svm, precision_logistic_reg, precision_lstm]\n",
    "\n",
    "# Plotting the graph\n",
    "plt.figure(figsize=(8, 6))\n",
    "\n",
    "# Plot precision scores\n",
    "plt.plot(models, precisions, marker='o', color='blue', linestyle='-', label='Precision')\n",
    "plt.axhline(y=precision_vader, color='red', linestyle='--', label='VADER Baseline')  # Add a horizontal line for VADER\n",
    "\n",
    "plt.title('Model Precisions')\n",
    "plt.xlabel('Models')\n",
    "plt.ylabel('Precision')\n",
    "plt.ylim(0, 1)\n",
    "plt.legend()\n",
    "plt.xticks(rotation=45)\n",
    "plt.grid(axis='y', linestyle='--', alpha=0.7)\n",
    "\n",
    "for i in range(len(models)):\n",
    "    plt.text(models[i], precisions[i], f'{precisions[i]:.2f}', ha='right', va='bottom')\n",
    "\n",
    "plt.tight_layout()\n",
    "plt.show()"
   ]
  },
  {
   "cell_type": "code",
   "execution_count": null,
   "id": "24feea94",
   "metadata": {},
   "outputs": [],
   "source": []
  }
 ],
 "metadata": {
  "kernelspec": {
   "display_name": "Python 3 (ipykernel)",
   "language": "python",
   "name": "python3"
  },
  "language_info": {
   "codemirror_mode": {
    "name": "ipython",
    "version": 3
   },
   "file_extension": ".py",
   "mimetype": "text/x-python",
   "name": "python",
   "nbconvert_exporter": "python",
   "pygments_lexer": "ipython3",
   "version": "3.11.5"
  }
 },
 "nbformat": 4,
 "nbformat_minor": 5
}
